{
  "cells": [
    {
      "cell_type": "code",
      "execution_count": null,
      "id": "M6100DBtwHU2",
      "metadata": {
        "colab": {
          "base_uri": "https://localhost:8080/",
          "height": 1000
        },
        "id": "M6100DBtwHU2",
        "outputId": "8c3926bb-ca2f-47c7-eee8-eec642160128"
      },
      "outputs": [],
      "source": [
        "!pip install torch==2.6.0"
      ]
    },
    {
      "cell_type": "code",
      "execution_count": null,
      "id": "c5fab6b2",
      "metadata": {
        "colab": {
          "base_uri": "https://localhost:8080/"
        },
        "id": "c5fab6b2",
        "outputId": "7cbf5262-2169-4749-abec-fd573f91d72d"
      },
      "outputs": [],
      "source": [
        "!pip install --no-deps bitsandbytes accelerate xformers==0.0.29.post3 peft trl triton cut_cross_entropy unsloth_zoo\n",
        "!pip install sentencepiece protobuf \"datasets>=3.4.1,<4.0.0\" \"huggingface_hub>=0.34.0\" hf_transfer\n",
        "!pip install unsloth"
      ]
    },
    {
      "cell_type": "code",
      "execution_count": null,
      "id": "ESTbmBh_xeui",
      "metadata": {
        "id": "ESTbmBh_xeui"
      },
      "outputs": [],
      "source": [
        "!pip freeze > unsloth_requirements.txt"
      ]
    },
    {
      "cell_type": "code",
      "execution_count": null,
      "id": "KfIuT1Ryxmr9",
      "metadata": {
        "colab": {
          "base_uri": "https://localhost:8080/"
        },
        "id": "KfIuT1Ryxmr9",
        "outputId": "8093787c-911f-42cc-d773-49078b2f9383"
      },
      "outputs": [],
      "source": [
        "!pip install unsloth_zoo"
      ]
    },
    {
      "cell_type": "code",
      "execution_count": null,
      "id": "3p1xsVekt64M",
      "metadata": {
        "id": "3p1xsVekt64M"
      },
      "outputs": [],
      "source": [
        "import os\n",
        "\n",
        "os.environ[\"XFORMERS_MORE_DETAILS\"] = \"1\"\n",
        "os.environ[\"DISABLE_CUT_CE\"] = \"1\"\n",
        "os.environ[\"FLASH_ATTENTION_FORCE_DISABLED\"] = \"1\"\n",
        "os.environ[\"XFORMERS_DISABLED\"] = \"1\""
      ]
    },
    {
      "cell_type": "code",
      "execution_count": null,
      "id": "ba12e1c2",
      "metadata": {
        "colab": {
          "base_uri": "https://localhost:8080/"
        },
        "id": "ba12e1c2",
        "outputId": "7f3c93bf-970b-40c8-e76d-f852ba3d17e8"
      },
      "outputs": [],
      "source": [
        "from unsloth import FastModel\n",
        "from google.colab import userdata\n",
        "from huggingface_hub import login\n",
        "\n",
        "login(userdata.get('HF_TOKEN'))\n",
        "token = userdata.get('HF_TOKEN')"
      ]
    },
    {
      "cell_type": "code",
      "execution_count": null,
      "id": "K4uI5ugDZK05",
      "metadata": {
        "id": "K4uI5ugDZK05"
      },
      "outputs": [],
      "source": [
        "import gc\n",
        "import torch\n",
        "\n",
        "torch.backends.cuda.enable_flash_sdp(False)\n",
        "torch.backends.cuda.enable_mem_efficient_sdp(False)  # opzionale: off\n",
        "torch.backends.cuda.enable_math_sdp(True)"
      ]
    },
    {
      "cell_type": "code",
      "execution_count": null,
      "id": "ea12fd9f",
      "metadata": {
        "colab": {
          "base_uri": "https://localhost:8080/"
        },
        "id": "ea12fd9f",
        "outputId": "95c6be23-da2e-45fe-c299-27345b1064fb"
      },
      "outputs": [],
      "source": [
        "max_seq_length = 256\n",
        "\n",
        "model, tokenizer = FastModel.from_pretrained(\n",
        "    model_name = \"unsloth/gemma-3-270m\",\n",
        "    max_seq_length = max_seq_length,\n",
        "    load_in_4bit = False,\n",
        "    token = token,\n",
        "    attn_implementation = \"eager\",\n",
        ")\n",
        "model.config.attn_implementation = \"eager\"\n",
        "model.use_fast_kernels=False"
      ]
    },
    {
      "cell_type": "code",
      "execution_count": null,
      "id": "4e0ec9df",
      "metadata": {
        "colab": {
          "base_uri": "https://localhost:8080/"
        },
        "id": "4e0ec9df",
        "outputId": "46cc00dd-7f16-4d6d-b159-723e87955c9d"
      },
      "outputs": [],
      "source": [
        "model = FastModel.get_peft_model(\n",
        "    model,\n",
        "    r = 8,\n",
        "    target_modules=\"all-linear\",\n",
        "    lora_alpha = 8,\n",
        "    lora_dropout=0.0,\n",
        "    bias = \"none\",\n",
        "    use_gradient_checkpointing = True,\n",
        "    random_state = 42,\n",
        "    use_rslora = False,  # rank stabilized LoRA\n",
        "    loftq_config = None, # And LoftQ\n",
        ")"
      ]
    },
    {
      "cell_type": "code",
      "execution_count": null,
      "id": "49e0edb8",
      "metadata": {
        "id": "49e0edb8"
      },
      "outputs": [],
      "source": [
        "from datasets import load_dataset\n",
        "\n",
        "ds = load_dataset(\"gretelai/synthetic_text_to_sql\", token=token)\n",
        "ds = ds.shuffle()\n",
        "train_ds = ds[\"train\"].select(range(35000))"
      ]
    },
    {
      "cell_type": "code",
      "execution_count": null,
      "id": "6d84dfda",
      "metadata": {
        "id": "6d84dfda"
      },
      "outputs": [],
      "source": [
        "user_prompt = \"\"\"Given the <USER_QUERY> and the <SCHEMA>, generate the corresponding SQL command to retrieve the desired data, considering the query's syntax, semantics, and schema constraints.\n",
        "\n",
        "<SCHEMA>\n",
        "{context}\n",
        "</SCHEMA>\n",
        "\n",
        "<USER_QUERY>\n",
        "{question}\n",
        "</USER_QUERY>\n",
        "\n",
        "<RESPONSE>\n",
        "{response}\n",
        "</RESPONSE>\n",
        "\"\"\"\n",
        "\n",
        "def format_function(example):\n",
        "    ctx = example.get(\"sql_context\", \"\")\n",
        "    q   = example.get(\"sql_prompt\", \"\")\n",
        "    resp= example.get(\"sql\", \"\")\n",
        "    text = user_prompt.format(context=ctx, question=q, response=resp)\n",
        "    # Consigliato chiudere con EOS se disponibile\n",
        "    try:\n",
        "        eos = tokenizer.eos_token or \"\"\n",
        "    except:\n",
        "        eos = \"\"\n",
        "    return [text + eos]"
      ]
    },
    {
      "cell_type": "code",
      "execution_count": null,
      "id": "COcOuElwT8iD",
      "metadata": {
        "colab": {
          "base_uri": "https://localhost:8080/",
          "height": 49,
          "referenced_widgets": [
            "0a2615a84bc9410e828efcba5ab1952f",
            "c06716de64234f62b417ea587eb74268",
            "ce3c0c044dfb4e7c96b383f023f1f243",
            "fc118232759d4d4884e7af3a136385e6",
            "575d436df8a74f83b6a9994dfe8f3511",
            "c086291370f549a781e4ad59d3de325d",
            "f3c49e5c6c844abca0c32bc7c032e545",
            "dd53137bb86145b2a0870257808b5b72",
            "2302b82e95ff41ce87c30808df1fc382",
            "f3b5a6e3857647cc902ff20bf4f9f03e",
            "03f1f02a7aa242358176b61f6c8155a2"
          ]
        },
        "id": "COcOuElwT8iD",
        "outputId": "33abb81f-4c56-4659-9b48-b803d8ab2dd7"
      },
      "outputs": [],
      "source": [
        "\n",
        "def format_prompts_for_training(example):\n",
        "    example[\"text\"] = user_prompt.format(\n",
        "        context=example[\"sql_context\"],\n",
        "        question=example[\"sql_prompt\"],\n",
        "        response=example[\"sql\"]\n",
        "    ) + (tokenizer.eos_token or \"\")\n",
        "    return example\n",
        "\n",
        "\n",
        "train_ds=train_ds.map(format_prompts_for_training)"
      ]
    },
    {
      "cell_type": "code",
      "execution_count": null,
      "id": "6e4a05bb",
      "metadata": {
        "colab": {
          "base_uri": "https://localhost:8080/"
        },
        "id": "6e4a05bb",
        "outputId": "99e7a005-461c-447d-a85e-fd65a8aa9013"
      },
      "outputs": [],
      "source": [
        "from trl import SFTTrainer, SFTConfig\n",
        "trainer = SFTTrainer(\n",
        "    model = model,\n",
        "    tokenizer = tokenizer,\n",
        "    train_dataset = train_ds,\n",
        "    eval_dataset = None,\n",
        "    args = SFTConfig(\n",
        "        gradient_checkpointing=True,\n",
        "        dataset_text_field = \"text\",\n",
        "        per_device_train_batch_size = 2,\n",
        "        gradient_accumulation_steps = 4,\n",
        "        warmup_steps = 5,\n",
        "        num_train_epochs = 1, # Set this for 1 full training run.\n",
        "        learning_rate = 2e-4,\n",
        "        logging_steps = 100,\n",
        "        optim=\"adamw_torch_fused\",\n",
        "        weight_decay = 0.01,\n",
        "        lr_scheduler_type = \"linear\",\n",
        "        seed = 42,\n",
        "        output_dir=\"./model/gemma-270m-Text2SQL-Fine-tuned\",\n",
        "        report_to=\"wandb\",\n",
        "        run_name=\"Gemma-Text2SQL\",\n",
        "        fp16=True,\n",
        "      bf16=False,\n",
        "\n",
        "    ),\n",
        "    formatting_func=format_function,\n",
        ")"
      ]
    },
    {
      "cell_type": "code",
      "execution_count": null,
      "id": "f606d839",
      "metadata": {
        "colab": {
          "base_uri": "https://localhost:8080/"
        },
        "id": "f606d839",
        "outputId": "b629ed8b-8f32-45de-e453-5a9f26ac271d"
      },
      "outputs": [],
      "source": [
        "import wandb\n",
        "wandb.login()"
      ]
    },
    {
      "cell_type": "code",
      "execution_count": null,
      "id": "5d491490",
      "metadata": {
        "colab": {
          "base_uri": "https://localhost:8080/"
        },
        "id": "5d491490",
        "outputId": "68453456-e848-430b-d0e3-4a9375882d40"
      },
      "outputs": [],
      "source": [
        "%env WANDB_PROJECT=Gemma-Text2SQL"
      ]
    },
    {
      "cell_type": "code",
      "execution_count": null,
      "id": "56c99862",
      "metadata": {
        "colab": {
          "base_uri": "https://localhost:8080/",
          "height": 194
        },
        "id": "56c99862",
        "outputId": "379a5ecd-5ff4-4b13-af50-0e23b5c7dffc"
      },
      "outputs": [],
      "source": [
        "trainer_stats = trainer.train()"
      ]
    },
    {
      "cell_type": "code",
      "execution_count": null,
      "id": "d9dc97a6",
      "metadata": {
        "id": "d9dc97a6"
      },
      "outputs": [],
      "source": [
        "trainer.save_model()"
      ]
    },
    {
      "cell_type": "markdown",
      "id": "PJv1uW7JmYnJ",
      "metadata": {
        "id": "PJv1uW7JmYnJ"
      },
      "source": []
    },
    {
      "cell_type": "code",
      "execution_count": null,
      "id": "f1adf08e",
      "metadata": {
        "id": "f1adf08e"
      },
      "outputs": [],
      "source": [
        "model.push_to_hub_merged(\"leotod/gemma-270m-Text2SQL-Fine-tuned\", tokenizer, save_method = \"merged_16bit\", token = token)"
      ]
    },
    {
      "cell_type": "code",
      "execution_count": null,
      "id": "06isMy1rZPf0",
      "metadata": {
        "id": "06isMy1rZPf0"
      },
      "outputs": [],
      "source": [
        "import gc\n",
        "import torch\n",
        "\n",
        "gc.collect()\n",
        "del model\n",
        "del trainer\n",
        "torch.cuda.empty_cache()"
      ]
    }
  ],
  "metadata": {
    "accelerator": "GPU",
    "colab": {
      "gpuType": "T4",
      "provenance": []
    },
    "kernelspec": {
      "display_name": "env",
      "language": "python",
      "name": "python3"
    },
    "language_info": {
      "codemirror_mode": {
        "name": "ipython",
        "version": 3
      },
      "file_extension": ".py",
      "mimetype": "text/x-python",
      "name": "python",
      "nbconvert_exporter": "python",
      "pygments_lexer": "ipython3",
      "version": "3.11.11"
    },
    "widgets": {
      "application/vnd.jupyter.widget-state+json": {
        "03f1f02a7aa242358176b61f6c8155a2": {
          "model_module": "@jupyter-widgets/controls",
          "model_module_version": "1.5.0",
          "model_name": "DescriptionStyleModel",
          "state": {
            "_model_module": "@jupyter-widgets/controls",
            "_model_module_version": "1.5.0",
            "_model_name": "DescriptionStyleModel",
            "_view_count": null,
            "_view_module": "@jupyter-widgets/base",
            "_view_module_version": "1.2.0",
            "_view_name": "StyleView",
            "description_width": ""
          }
        },
        "0a2615a84bc9410e828efcba5ab1952f": {
          "model_module": "@jupyter-widgets/controls",
          "model_module_version": "1.5.0",
          "model_name": "HBoxModel",
          "state": {
            "_dom_classes": [],
            "_model_module": "@jupyter-widgets/controls",
            "_model_module_version": "1.5.0",
            "_model_name": "HBoxModel",
            "_view_count": null,
            "_view_module": "@jupyter-widgets/controls",
            "_view_module_version": "1.5.0",
            "_view_name": "HBoxView",
            "box_style": "",
            "children": [
              "IPY_MODEL_c06716de64234f62b417ea587eb74268",
              "IPY_MODEL_ce3c0c044dfb4e7c96b383f023f1f243",
              "IPY_MODEL_fc118232759d4d4884e7af3a136385e6"
            ],
            "layout": "IPY_MODEL_575d436df8a74f83b6a9994dfe8f3511"
          }
        },
        "2302b82e95ff41ce87c30808df1fc382": {
          "model_module": "@jupyter-widgets/controls",
          "model_module_version": "1.5.0",
          "model_name": "ProgressStyleModel",
          "state": {
            "_model_module": "@jupyter-widgets/controls",
            "_model_module_version": "1.5.0",
            "_model_name": "ProgressStyleModel",
            "_view_count": null,
            "_view_module": "@jupyter-widgets/base",
            "_view_module_version": "1.2.0",
            "_view_name": "StyleView",
            "bar_color": null,
            "description_width": ""
          }
        },
        "575d436df8a74f83b6a9994dfe8f3511": {
          "model_module": "@jupyter-widgets/base",
          "model_module_version": "1.2.0",
          "model_name": "LayoutModel",
          "state": {
            "_model_module": "@jupyter-widgets/base",
            "_model_module_version": "1.2.0",
            "_model_name": "LayoutModel",
            "_view_count": null,
            "_view_module": "@jupyter-widgets/base",
            "_view_module_version": "1.2.0",
            "_view_name": "LayoutView",
            "align_content": null,
            "align_items": null,
            "align_self": null,
            "border": null,
            "bottom": null,
            "display": null,
            "flex": null,
            "flex_flow": null,
            "grid_area": null,
            "grid_auto_columns": null,
            "grid_auto_flow": null,
            "grid_auto_rows": null,
            "grid_column": null,
            "grid_gap": null,
            "grid_row": null,
            "grid_template_areas": null,
            "grid_template_columns": null,
            "grid_template_rows": null,
            "height": null,
            "justify_content": null,
            "justify_items": null,
            "left": null,
            "margin": null,
            "max_height": null,
            "max_width": null,
            "min_height": null,
            "min_width": null,
            "object_fit": null,
            "object_position": null,
            "order": null,
            "overflow": null,
            "overflow_x": null,
            "overflow_y": null,
            "padding": null,
            "right": null,
            "top": null,
            "visibility": null,
            "width": null
          }
        },
        "c06716de64234f62b417ea587eb74268": {
          "model_module": "@jupyter-widgets/controls",
          "model_module_version": "1.5.0",
          "model_name": "HTMLModel",
          "state": {
            "_dom_classes": [],
            "_model_module": "@jupyter-widgets/controls",
            "_model_module_version": "1.5.0",
            "_model_name": "HTMLModel",
            "_view_count": null,
            "_view_module": "@jupyter-widgets/controls",
            "_view_module_version": "1.5.0",
            "_view_name": "HTMLView",
            "description": "",
            "description_tooltip": null,
            "layout": "IPY_MODEL_c086291370f549a781e4ad59d3de325d",
            "placeholder": "​",
            "style": "IPY_MODEL_f3c49e5c6c844abca0c32bc7c032e545",
            "value": "Map: 100%"
          }
        },
        "c086291370f549a781e4ad59d3de325d": {
          "model_module": "@jupyter-widgets/base",
          "model_module_version": "1.2.0",
          "model_name": "LayoutModel",
          "state": {
            "_model_module": "@jupyter-widgets/base",
            "_model_module_version": "1.2.0",
            "_model_name": "LayoutModel",
            "_view_count": null,
            "_view_module": "@jupyter-widgets/base",
            "_view_module_version": "1.2.0",
            "_view_name": "LayoutView",
            "align_content": null,
            "align_items": null,
            "align_self": null,
            "border": null,
            "bottom": null,
            "display": null,
            "flex": null,
            "flex_flow": null,
            "grid_area": null,
            "grid_auto_columns": null,
            "grid_auto_flow": null,
            "grid_auto_rows": null,
            "grid_column": null,
            "grid_gap": null,
            "grid_row": null,
            "grid_template_areas": null,
            "grid_template_columns": null,
            "grid_template_rows": null,
            "height": null,
            "justify_content": null,
            "justify_items": null,
            "left": null,
            "margin": null,
            "max_height": null,
            "max_width": null,
            "min_height": null,
            "min_width": null,
            "object_fit": null,
            "object_position": null,
            "order": null,
            "overflow": null,
            "overflow_x": null,
            "overflow_y": null,
            "padding": null,
            "right": null,
            "top": null,
            "visibility": null,
            "width": null
          }
        },
        "ce3c0c044dfb4e7c96b383f023f1f243": {
          "model_module": "@jupyter-widgets/controls",
          "model_module_version": "1.5.0",
          "model_name": "FloatProgressModel",
          "state": {
            "_dom_classes": [],
            "_model_module": "@jupyter-widgets/controls",
            "_model_module_version": "1.5.0",
            "_model_name": "FloatProgressModel",
            "_view_count": null,
            "_view_module": "@jupyter-widgets/controls",
            "_view_module_version": "1.5.0",
            "_view_name": "ProgressView",
            "bar_style": "success",
            "description": "",
            "description_tooltip": null,
            "layout": "IPY_MODEL_dd53137bb86145b2a0870257808b5b72",
            "max": 35000,
            "min": 0,
            "orientation": "horizontal",
            "style": "IPY_MODEL_2302b82e95ff41ce87c30808df1fc382",
            "value": 35000
          }
        },
        "dd53137bb86145b2a0870257808b5b72": {
          "model_module": "@jupyter-widgets/base",
          "model_module_version": "1.2.0",
          "model_name": "LayoutModel",
          "state": {
            "_model_module": "@jupyter-widgets/base",
            "_model_module_version": "1.2.0",
            "_model_name": "LayoutModel",
            "_view_count": null,
            "_view_module": "@jupyter-widgets/base",
            "_view_module_version": "1.2.0",
            "_view_name": "LayoutView",
            "align_content": null,
            "align_items": null,
            "align_self": null,
            "border": null,
            "bottom": null,
            "display": null,
            "flex": null,
            "flex_flow": null,
            "grid_area": null,
            "grid_auto_columns": null,
            "grid_auto_flow": null,
            "grid_auto_rows": null,
            "grid_column": null,
            "grid_gap": null,
            "grid_row": null,
            "grid_template_areas": null,
            "grid_template_columns": null,
            "grid_template_rows": null,
            "height": null,
            "justify_content": null,
            "justify_items": null,
            "left": null,
            "margin": null,
            "max_height": null,
            "max_width": null,
            "min_height": null,
            "min_width": null,
            "object_fit": null,
            "object_position": null,
            "order": null,
            "overflow": null,
            "overflow_x": null,
            "overflow_y": null,
            "padding": null,
            "right": null,
            "top": null,
            "visibility": null,
            "width": null
          }
        },
        "f3b5a6e3857647cc902ff20bf4f9f03e": {
          "model_module": "@jupyter-widgets/base",
          "model_module_version": "1.2.0",
          "model_name": "LayoutModel",
          "state": {
            "_model_module": "@jupyter-widgets/base",
            "_model_module_version": "1.2.0",
            "_model_name": "LayoutModel",
            "_view_count": null,
            "_view_module": "@jupyter-widgets/base",
            "_view_module_version": "1.2.0",
            "_view_name": "LayoutView",
            "align_content": null,
            "align_items": null,
            "align_self": null,
            "border": null,
            "bottom": null,
            "display": null,
            "flex": null,
            "flex_flow": null,
            "grid_area": null,
            "grid_auto_columns": null,
            "grid_auto_flow": null,
            "grid_auto_rows": null,
            "grid_column": null,
            "grid_gap": null,
            "grid_row": null,
            "grid_template_areas": null,
            "grid_template_columns": null,
            "grid_template_rows": null,
            "height": null,
            "justify_content": null,
            "justify_items": null,
            "left": null,
            "margin": null,
            "max_height": null,
            "max_width": null,
            "min_height": null,
            "min_width": null,
            "object_fit": null,
            "object_position": null,
            "order": null,
            "overflow": null,
            "overflow_x": null,
            "overflow_y": null,
            "padding": null,
            "right": null,
            "top": null,
            "visibility": null,
            "width": null
          }
        },
        "f3c49e5c6c844abca0c32bc7c032e545": {
          "model_module": "@jupyter-widgets/controls",
          "model_module_version": "1.5.0",
          "model_name": "DescriptionStyleModel",
          "state": {
            "_model_module": "@jupyter-widgets/controls",
            "_model_module_version": "1.5.0",
            "_model_name": "DescriptionStyleModel",
            "_view_count": null,
            "_view_module": "@jupyter-widgets/base",
            "_view_module_version": "1.2.0",
            "_view_name": "StyleView",
            "description_width": ""
          }
        },
        "fc118232759d4d4884e7af3a136385e6": {
          "model_module": "@jupyter-widgets/controls",
          "model_module_version": "1.5.0",
          "model_name": "HTMLModel",
          "state": {
            "_dom_classes": [],
            "_model_module": "@jupyter-widgets/controls",
            "_model_module_version": "1.5.0",
            "_model_name": "HTMLModel",
            "_view_count": null,
            "_view_module": "@jupyter-widgets/controls",
            "_view_module_version": "1.5.0",
            "_view_name": "HTMLView",
            "description": "",
            "description_tooltip": null,
            "layout": "IPY_MODEL_f3b5a6e3857647cc902ff20bf4f9f03e",
            "placeholder": "​",
            "style": "IPY_MODEL_03f1f02a7aa242358176b61f6c8155a2",
            "value": " 35000/35000 [00:07&lt;00:00, 3438.55 examples/s]"
          }
        }
      }
    }
  },
  "nbformat": 4,
  "nbformat_minor": 5
}
